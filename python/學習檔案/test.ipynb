{
        "cells": [
                {
                        "cell_type": "code",
                        "execution_count": 3,
                        "id": "bb5577f3",
                        "metadata": {},
                        "outputs": [
                                {
                                        "data": {
                                                "text/plain": [
                                                        "'Gary-23-man'"
                                                ]
                                        },
                                        "execution_count": 3,
                                        "metadata": {},
                                        "output_type": "execute_result"
                                }
                        ],
                        "source": [
                                "class Student:\n",
                                "    course = 'Chinese'\n",
                                "    def __init__(self, name, age, sex):\n",
                                "        self.name = name\n",
                                "        self.age = age\n",
                                "        self.sex = sex\n",
                                "    def talk(self):\n",
                                "        print(f\"{self.name}: I am Student\")\n",
                                "\n",
                                "    def __repr__(self):\n",
                                "        return f\"Student({self.name}, {self.age}, {self.sex})\"\n",
                                "    \n",
                                "    def __str__(self):\n",
                                "        return f\"{self.name}-{self.age}-{self.sex}\"\n",
                                "    \n",
                                "stu_1 = Student('Gary', 23, 'man')\n",
                                "#repr(stu_1)\n",
                                "str(stu_1)\n"
                        ]
                }
        ],
        "metadata": {
                "kernelspec": {
                        "display_name": "base",
                        "language": "python",
                        "name": "python3"
                },
                "language_info": {
                        "codemirror_mode": {
                                "name": "ipython",
                                "version": 3
                        },
                        "file_extension": ".py",
                        "mimetype": "text/x-python",
                        "name": "python",
                        "nbconvert_exporter": "python",
                        "pygments_lexer": "ipython3",
                        "version": "3.12.3"
                }
        },
        "nbformat": 4,
        "nbformat_minor": 5
}
